{
  "nbformat": 4,
  "nbformat_minor": 0,
  "metadata": {
    "colab": {
      "name": "Multiobject_Detection_pb_and_pbtxt.ipynb",
      "provenance": [],
      "collapsed_sections": []
    },
    "kernelspec": {
      "name": "python3",
      "display_name": "Python 3"
    },
    "accelerator": "GPU"
  },
  "cells": [
    {
      "cell_type": "code",
      "metadata": {
        "colab": {
          "base_uri": "https://localhost:8080/"
        },
        "id": "4Q6w5IPzjHGM",
        "outputId": "c6d88edc-dfc2-440e-bddb-3c8829726e87"
      },
      "source": [
        "!pip install pyttsx3"
      ],
      "execution_count": 36,
      "outputs": [
        {
          "output_type": "stream",
          "text": [
            "Collecting pyttsx3\n",
            "  Downloading https://files.pythonhosted.org/packages/33/9a/de4781245f5ad966646fd276259ef7cfd400ba3cf7d5db7c0d5aab310c20/pyttsx3-2.90-py3-none-any.whl\n",
            "Installing collected packages: pyttsx3\n",
            "Successfully installed pyttsx3-2.90\n"
          ],
          "name": "stdout"
        }
      ]
    },
    {
      "cell_type": "code",
      "metadata": {
        "colab": {
          "base_uri": "https://localhost:8080/"
        },
        "id": "YmU9SiyHkPsy",
        "outputId": "1b47e2e9-95b3-4e70-f043-e65ec874c194"
      },
      "source": [
        "!sudo apt install libespeak1"
      ],
      "execution_count": 40,
      "outputs": [
        {
          "output_type": "stream",
          "text": [
            "Reading package lists... Done\n",
            "Building dependency tree       \n",
            "Reading state information... Done\n",
            "The following additional packages will be installed:\n",
            "  espeak-data libportaudio2 libsonic0\n",
            "The following NEW packages will be installed:\n",
            "  espeak-data libespeak1 libportaudio2 libsonic0\n",
            "0 upgraded, 4 newly installed, 0 to remove and 14 not upgraded.\n",
            "Need to get 1,157 kB of archives.\n",
            "After this operation, 2,822 kB of additional disk space will be used.\n",
            "Get:1 http://archive.ubuntu.com/ubuntu bionic/universe amd64 espeak-data amd64 1.48.04+dfsg-5 [934 kB]\n",
            "Get:2 http://archive.ubuntu.com/ubuntu bionic/universe amd64 libportaudio2 amd64 19.6.0-1 [64.6 kB]\n",
            "Get:3 http://archive.ubuntu.com/ubuntu bionic/main amd64 libsonic0 amd64 0.2.0-6 [13.4 kB]\n",
            "Get:4 http://archive.ubuntu.com/ubuntu bionic/universe amd64 libespeak1 amd64 1.48.04+dfsg-5 [145 kB]\n",
            "Fetched 1,157 kB in 2s (483 kB/s)\n",
            "debconf: unable to initialize frontend: Dialog\n",
            "debconf: (No usable dialog-like program is installed, so the dialog based frontend cannot be used. at /usr/share/perl5/Debconf/FrontEnd/Dialog.pm line 76, <> line 4.)\n",
            "debconf: falling back to frontend: Readline\n",
            "debconf: unable to initialize frontend: Readline\n",
            "debconf: (This frontend requires a controlling tty.)\n",
            "debconf: falling back to frontend: Teletype\n",
            "dpkg-preconfigure: unable to re-open stdin: \n",
            "Selecting previously unselected package espeak-data:amd64.\n",
            "(Reading database ... 144865 files and directories currently installed.)\n",
            "Preparing to unpack .../espeak-data_1.48.04+dfsg-5_amd64.deb ...\n",
            "Unpacking espeak-data:amd64 (1.48.04+dfsg-5) ...\n",
            "Selecting previously unselected package libportaudio2:amd64.\n",
            "Preparing to unpack .../libportaudio2_19.6.0-1_amd64.deb ...\n",
            "Unpacking libportaudio2:amd64 (19.6.0-1) ...\n",
            "Selecting previously unselected package libsonic0:amd64.\n",
            "Preparing to unpack .../libsonic0_0.2.0-6_amd64.deb ...\n",
            "Unpacking libsonic0:amd64 (0.2.0-6) ...\n",
            "Selecting previously unselected package libespeak1:amd64.\n",
            "Preparing to unpack .../libespeak1_1.48.04+dfsg-5_amd64.deb ...\n",
            "Unpacking libespeak1:amd64 (1.48.04+dfsg-5) ...\n",
            "Setting up libportaudio2:amd64 (19.6.0-1) ...\n",
            "Setting up espeak-data:amd64 (1.48.04+dfsg-5) ...\n",
            "Setting up libsonic0:amd64 (0.2.0-6) ...\n",
            "Setting up libespeak1:amd64 (1.48.04+dfsg-5) ...\n",
            "Processing triggers for libc-bin (2.27-3ubuntu1.2) ...\n",
            "/sbin/ldconfig.real: /usr/local/lib/python3.6/dist-packages/ideep4py/lib/libmkldnn.so.0 is not a symbolic link\n",
            "\n"
          ],
          "name": "stdout"
        }
      ]
    },
    {
      "cell_type": "code",
      "metadata": {
        "colab": {
          "base_uri": "https://localhost:8080/"
        },
        "id": "l3btHsC7ZNj8",
        "outputId": "f06048e3-de5e-4c5c-e9e0-2ac3992415d6"
      },
      "source": [
        "from google.colab import drive\n",
        "drive.mount('/content/drive')"
      ],
      "execution_count": 1,
      "outputs": [
        {
          "output_type": "stream",
          "text": [
            "Mounted at /content/drive\n"
          ],
          "name": "stdout"
        }
      ]
    },
    {
      "cell_type": "code",
      "metadata": {
        "colab": {
          "base_uri": "https://localhost:8080/"
        },
        "id": "PTPczr1XZXzF",
        "outputId": "f69a4030-bdd2-4c1a-9db5-42c325019966"
      },
      "source": [
        "cd '/content/drive/MyDrive/Python and Deep Learning/multiobject_models'"
      ],
      "execution_count": 2,
      "outputs": [
        {
          "output_type": "stream",
          "text": [
            "/content/drive/MyDrive/Python and Deep Learning/multiobject_models\n"
          ],
          "name": "stdout"
        }
      ]
    },
    {
      "cell_type": "code",
      "metadata": {
        "id": "D8ZCSE97YQ2g"
      },
      "source": [
        "def compass_direction(w, h, st_x, st_y, ed_x, ed_y):\n",
        "  origin_x = w/2\n",
        "  origin_y = h/2\n",
        "\n",
        "  box_x = (st_x+ed_x)/2\n",
        "  box_y = (st_y+ed_y)/2\n",
        "\n",
        "  delta_x = box_x-origin_x\n",
        "  delta_y = box_y-origin_y\n",
        "\n",
        "  degrees_temp = math.atan2(delta_x, delta_y)/math.pi*180\n",
        "\n",
        "  if degrees_temp<0:\n",
        "    degrees_final = 360+degrees_temp\n",
        "  else:\n",
        "    degrees_final = degrees_temp\n",
        "\n",
        "  # compass_brackets = [\"S\", \"SE\", \"E\", \"NE\", \"N\", \"NW\", \"W\", \"SW\", \"S\"]\n",
        "  compass_brackets = [\"Bottom\", \"Bottom Right\", \"Right\", \"Top Right\", \"Top\", \"Top Left\", \"Left\", \"Bottom Left\", \"Bottom\"]\n",
        "  compass_lookup = round(degrees_final / 45)\n",
        "  return compass_brackets[compass_lookup]"
      ],
      "execution_count": 3,
      "outputs": []
    },
    {
      "cell_type": "code",
      "metadata": {
        "colab": {
          "base_uri": "https://localhost:8080/",
          "height": 274
        },
        "id": "KBSY5tnwREAQ",
        "outputId": "6fbe4ff4-2e7a-4474-f096-d25f4cce0121"
      },
      "source": [
        "import cv2\n",
        "import numpy as np\n",
        "import math\n",
        "from google.colab.patches import cv2_imshow\n",
        "from PIL import Image\n",
        "\n",
        " \n",
        "# Load a model imported from Tensorflow\n",
        "tensorflowNet = cv2.dnn.readNetFromTensorflow('inception.pb', 'inception.pbtxt')\n",
        " \n",
        "# Input image\n",
        "img = cv2.imread('example_02.jpg')\n",
        "im = Image.open('example_02.jpg')\n",
        "width, height = im.size\n",
        "rows, cols, channels = img.shape\n",
        "\n",
        "confidence_constant = 0.3\n",
        " \n",
        "# Use the given image as input, which needs to be blob(s).\n",
        "tensorflowNet.setInput(cv2.dnn.blobFromImage(img, size=(300, 300), swapRB=True, crop=False))\n",
        " \n",
        "# Runs a forward pass to compute the net output\n",
        "# Network produces output blob with a shape 1x1xNx7 where N is a number of\n",
        "# [batchId, classId, confidence, left, top, right, bottom]\n",
        "networkOutput = tensorflowNet.forward()\n",
        "\n",
        "classes_90 = [\"background\", \"person\", \"bicycle\", \"car\", \"motorcycle\",\n",
        "            \"airplane\", \"bus\", \"train\", \"truck\", \"boat\", \"traffic light\", \"fire hydrant\",\n",
        "            \"unknown\", \"stop sign\", \"parking meter\", \"bench\", \"bird\", \"cat\", \"dog\", \"horse\",\n",
        "            \"sheep\", \"cow\", \"elephant\", \"bear\", \"zebra\", \"giraffe\", \"unknown\", \"backpack\",\n",
        "            \"umbrella\", \"unknown\", \"unknown\", \"handbag\", \"tie\", \"suitcase\", \"frisbee\", \"skis\",\n",
        "            \"snowboard\", \"sports ball\", \"kite\", \"baseball bat\", \"baseball glove\", \"skateboard\",\n",
        "            \"surfboard\", \"tennis racket\", \"bottle\", \"unknown\", \"wine glass\", \"cup\", \"fork\", \"knife\",\n",
        "            \"spoon\", \"bowl\", \"banana\", \"apple\", \"sandwich\", \"orange\", \"broccoli\", \"carrot\", \"hot dog\",\n",
        "            \"pizza\", \"donut\", \"cake\", \"chair\", \"couch\", \"potted plant\", \"bed\", \"unknown\", \"dining table\",\n",
        "            \"unknown\", \"unknown\", \"toilet\", \"unknown\", \"tv\", \"laptop\", \"mouse\", \"remote\", \"keyboard\",\n",
        "            \"cell phone\", \"microwave\", \"oven\", \"toaster\", \"sink\", \"refrigerator\", \"unknown\",\n",
        "            \"book\", \"clock\", \"vase\", \"scissors\", \"teddy bear\", \"hair drier\", \"toothbrush\" ] \n",
        "\n",
        "\n",
        "CLASSES = classes_90\n",
        "COLORS = np.random.uniform(0, 255, size=(len(CLASSES), 3))\n",
        "cvNet = cv2.dnn.readNetFromTensorflow('inception.pb', 'inception.pbtxt')\n",
        "h = img.shape[0] \n",
        "w = img.shape[1] \n",
        "cvNet.setInput(cv2.dnn.blobFromImage(img, size=(300, 300), swapRB=True, crop=False))\n",
        "detections = cvNet.forward()\n",
        "\n",
        "\n",
        "# loop over the detections\n",
        "object_directions = []\n",
        "\n",
        "for i in np.arange(0, detections.shape[2]): #detections.shape[2] ==> 100\n",
        "    # extract the confidence (i.e., probability) associated with\n",
        "    # the prediction\n",
        "    confidence = detections[0, 0, i, 2]\n",
        "    #print(confidence)\n",
        "\n",
        "    # filter out weak detections by ensuring the `confidence` is\n",
        "    # greater than the minimum confidence\n",
        "    if confidence > confidence_constant:\n",
        "        # extract the index of the class label from the\n",
        "        # `detections`, then compute the (x, y)-coordinates of\n",
        "        # the bounding box for the object\n",
        "        idx = int(detections[0, 0, i, 1])\n",
        "        box = detections[0, 0, i, 3:7] * np.array([w, h, w, h])\n",
        "        (startX, startY, endX, endY) = box.astype(\"int\")\n",
        "\n",
        "        # draw the prediction on the frame\n",
        "        label = \"{}: {:.2f}%\".format(CLASSES[idx],\n",
        "            confidence * 100)\n",
        "        cv2.rectangle(img, (startX, startY), (endX, endY),\n",
        "            COLORS[idx], 2)\n",
        "        y = startY - 15 if startY - 15 > 15 else startY + 15\n",
        "        cv2.putText(img, label, (startX, y),\n",
        "            cv2.FONT_HERSHEY_SIMPLEX, 0.5, COLORS[idx], 2)\n",
        "        object_directions.append((label, compass_direction(width, height, startX,startY,endX,endY)))\n",
        "\n",
        "# cv2.circle(img, (int(width/2),int(height/2)), 20, (0,0,255), 2)\n",
        "cv2_imshow(img)\n",
        "cv2.waitKey()"
      ],
      "execution_count": 7,
      "outputs": [
        {
          "output_type": "display_data",
          "data": {
            "image/png": "[encoded data removed]",
            "text/plain": [
              "<PIL.Image.Image image mode=RGB size=360x240 at 0x7FB551AEBA90>"
            ]
          },
          "metadata": {
            "tags": []
          }
        },
        {
          "output_type": "execute_result",
          "data": {
            "text/plain": [
              "-1"
            ]
          },
          "metadata": {
            "tags": []
          },
          "execution_count": 7
        }
      ]
    },
    {
      "cell_type": "code",
      "metadata": {
        "colab": {
          "base_uri": "https://localhost:8080/"
        },
        "id": "kuzfEwskbrXm",
        "outputId": "7c16a132-20c4-4bf0-ff0b-b0fa260403c7"
      },
      "source": [
        "\n",
        "final_directions = []\n",
        "for each in object_directions:\n",
        "  final_directions.append((each[0].split(':')[0],each[1]))\n",
        "print(final_directions)\n",
        "\n",
        "for each in final_directions:\n",
        "  print('There is a %s at %s' %(each[0],each[1]))\n",
        "\n"
      ],
      "execution_count": 52,
      "outputs": [
        {
          "output_type": "stream",
          "text": [
            "[('airplane', 'Bottom Right')]\n",
            "There is a airplane at Bottom Right\n"
          ],
          "name": "stdout"
        }
      ]
    },
    {
      "cell_type": "code",
      "metadata": {
        "id": "azq00rLkjnZ3"
      },
      "source": [
        "# import pyttsx3\n",
        "# engine = pyttsx3.init()\n",
        "# engine.say(\"hello sir\")\n",
        "# engine.runAndWait()\n",
        "# for each in final_directions:\n",
        "#   engine.say('There is a %s on %s' %(each[0],each[1]))\n",
        "#   engine.runAndWait()\n",
        "  "
      ],
      "execution_count": 43,
      "outputs": []
    }
  ]
}